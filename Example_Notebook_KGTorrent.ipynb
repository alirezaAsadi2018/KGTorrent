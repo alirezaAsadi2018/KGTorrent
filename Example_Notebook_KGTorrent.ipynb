{
  "nbformat": 4,
  "nbformat_minor": 0,
  "metadata": {
    "colab": {
      "provenance": []
    },
    "kernelspec": {
      "name": "python3",
      "display_name": "Python 3"
    },
    "language_info": {
      "name": "python"
    }
  },
  "cells": [
    {
      "cell_type": "markdown",
      "source": [
        "## Install KGTorrent\n"
      ],
      "metadata": {
        "id": "YDH-mH5FOPsx"
      }
    },
    {
      "cell_type": "markdown",
      "source": [
        "### Get metakaggle data from zenodo"
      ],
      "metadata": {
        "id": "W1Zb1d3eORrY"
      }
    },
    {
      "cell_type": "code",
      "execution_count": null,
      "metadata": {
        "id": "a1f40rgqOD7m"
      },
      "outputs": [],
      "source": [
        "!wget https://zenodo.org/records/4468523/files/MetaKaggle27Oct2020.tar.bz2?download=1"
      ]
    },
    {
      "cell_type": "code",
      "source": [
        "!tar -xf MetaKaggle27Oct2020.tar.bz2?download=1"
      ],
      "metadata": {
        "id": "5wSGXU_mOKvn"
      },
      "execution_count": null,
      "outputs": []
    },
    {
      "cell_type": "markdown",
      "source": [
        "### Install kgtorrent"
      ],
      "metadata": {
        "id": "YCWNjHa-OW_9"
      }
    },
    {
      "cell_type": "code",
      "source": [
        "! git clone https://github.com/alirezaAsadi2018/KGTorrent.git"
      ],
      "metadata": {
        "id": "QSV_OJsZOY2H"
      },
      "execution_count": null,
      "outputs": []
    },
    {
      "cell_type": "code",
      "source": [
        "!pip install git+https://github.com/alirezaAsadi2018/KGTorrent.git"
      ],
      "metadata": {
        "id": "X2XcWuqzOada"
      },
      "execution_count": null,
      "outputs": []
    },
    {
      "cell_type": "code",
      "source": [
        "!pip install kaggle"
      ],
      "metadata": {
        "id": "FKZvkNxaOcZp"
      },
      "execution_count": null,
      "outputs": []
    },
    {
      "cell_type": "code",
      "source": [
        "import os\n",
        "\n",
        "api_token = {\"username\":\"{{your_kaggle_username}}\",\"key\":\"{{your_kaggle_api_key}}\"}\n",
        "\n",
        "import json\n",
        "\n",
        "with open('/content/kaggle.json', 'w') as file:\n",
        "  json.dump(api_token, file)\n",
        "\n",
        "!chmod 600 kaggle.json"
      ],
      "metadata": {
        "id": "T3IGCo_1OdYf"
      },
      "execution_count": null,
      "outputs": []
    },
    {
      "cell_type": "markdown",
      "source": [
        "### Install mysql"
      ],
      "metadata": {
        "id": "QFqcCMhuOhmC"
      }
    },
    {
      "cell_type": "code",
      "source": [
        "!apt-get install mysql-server > /dev/null"
      ],
      "metadata": {
        "id": "VizmRGyaOeYN"
      },
      "execution_count": null,
      "outputs": []
    },
    {
      "cell_type": "code",
      "source": [
        "!mysql -e \"ALTER USER 'root'@'localhost' IDENTIFIED WITH mysql_native_password BY 'root'\""
      ],
      "metadata": {
        "id": "hwmLgGYEOjDE"
      },
      "execution_count": null,
      "outputs": []
    },
    {
      "cell_type": "code",
      "source": [
        "!pip -q install PyMySQL"
      ],
      "metadata": {
        "id": "cuQs0ZkuOj-u"
      },
      "execution_count": null,
      "outputs": []
    },
    {
      "cell_type": "code",
      "source": [
        "%load_ext sql\n"
      ],
      "metadata": {
        "id": "wwXudX7qOlAS"
      },
      "execution_count": null,
      "outputs": []
    },
    {
      "cell_type": "code",
      "source": [
        "%config SqlMagic.feedback=False\n",
        "%config SqlMagic.autopandas=True\n",
        "%sql mysql+pymysql://root:root@/\n",
        "# query using %sql or %%sql\n",
        "df = %sql SELECT Host, User, authentication_string FROM mysql.user\n",
        "df"
      ],
      "metadata": {
        "id": "BmOwxO9VOlwf"
      },
      "execution_count": null,
      "outputs": []
    },
    {
      "cell_type": "code",
      "source": [
        "df = %sql SHOW Databases;\n",
        "df"
      ],
      "metadata": {
        "id": "czFfrvKKOmhg"
      },
      "execution_count": null,
      "outputs": []
    },
    {
      "cell_type": "code",
      "source": [
        "df = %sql SET @@global.sql_mode= '';",
        "df"
      ],
      "metadata": {
        "id": "O8LWovwaac5e"
      },
      "execution_count": null,
      "outputs": []
    },
    {
      "cell_type": "markdown",
      "source": [
        "### Run kgtorrent"
      ],
      "metadata": {
        "id": "wAt5OS9AOqN5"
      }
    },
    {
      "cell_type": "code",
      "source": [
        "mkdir -p /content/kgoutput"
      ],
      "metadata": {
        "id": "gmZ7CUnuOsds"
      },
      "execution_count": null,
      "outputs": []
    },
    {
      "cell_type": "code",
      "source": [
        "mkdir -p /content/kglogs"
      ],
      "metadata": {
        "id": "-J02xU7tOtzV"
      },
      "execution_count": null,
      "outputs": []
    },
    {
      "cell_type": "code",
      "source": [
        "import os\n",
        "\n",
        "os.environ[\"DB_HOST\"] = \"localhost\"\n",
        "os.environ[\"DB_PORT\"] = \"3306\"\n",
        "os.environ[\"DB_NAME\"] = \"kgtorrent\"\n",
        "os.environ[\"MYSQL_USER\"] = \"root\"\n",
        "os.environ[\"MYSQL_PWD\"] = \"root\"\n",
        "os.environ[\"METAKAGGLE_PATH\"] = \"/content/MetaKaggle 27-10-2020 (KT version)\"\n",
        "os.environ[\"NB_DEST_PATH\"] = \"/content/kgoutput\"\n",
        "os.environ[\"LOG_DEST_PATH\"] = \"/content/kglogs\"\n",
        "os.environ[\"CONSTRAINTS_FILE_PATH\"] = 'data/fk_constraints_data.csv'\n",
        "os.environ[\"KAGGLE_CONFIG_DIR\"] = \"/content\""
      ],
      "metadata": {
        "id": "rwqJ_7qGOupc"
      },
      "execution_count": null,
      "outputs": []
    },
    {
      "cell_type": "code",
      "source": [
        "os.chdir('KGTorrent')"
      ],
      "metadata": {
        "id": "QWRJAhMzO0zB"
      },
      "execution_count": null,
      "outputs": []
    },
    {
      "cell_type": "code",
      "source": [
        "!python -m KGTorrent.kgtorrent init --strategy HTTP"
      ],
      "metadata": {
        "id": "X-AgjrIoO3q2"
      },
      "execution_count": null,
      "outputs": []
    }
  ]
}
